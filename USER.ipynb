{
 "cells": [
  {
   "cell_type": "code",
   "execution_count": 38,
   "id": "adb4bca4",
   "metadata": {},
   "outputs": [
    {
     "name": "stdout",
     "output_type": "stream",
     "text": [
      "Enter Email:A\n",
      "Enter password: A\n",
      "1:Place new order\n",
      "2:Order History\n",
      "3:Update Profile\n",
      "3\n",
      "Full_name: Sai\n",
      "Phone_number: 1\n",
      "Email: 1\n",
      "Adress: 1\n",
      "password: 1\n",
      "<__main__.User object at 0x000001D07167A500>\n"
     ]
    }
   ],
   "source": [
    "class User:\n",
    "    \n",
    "    def __init__(self,Full_name,Phone_number,Email,Adress,password):\n",
    "        self.Full_name=Full_name\n",
    "        self.Phone_number=Phone_number\n",
    "        self.Email=Email\n",
    "        self.Adress=Adress\n",
    "        self.password=password\n",
    "        self.items={1:\"Tandoori Chicken (4 pieces) [INR 240]\",\n",
    "                    2:\"Vegan Burger (1 Piece) [INR 320]\", \n",
    "                    3:\"Truffle Cake (500gm) [INR 900]\"}\n",
    "        self.orders=[]\n",
    "    def login(self,email,password):\n",
    "        if(self.Email==email):\n",
    "            if(self.password==password):\n",
    "                print('1:Place new order')\n",
    "                print('2:Order History')\n",
    "                print('3:Update Profile')\n",
    "                z=int(input())\n",
    "                if(z==1):\n",
    "                    self.place_new_order()\n",
    "                if(z==2):\n",
    "                    self.Order_History()\n",
    "                if(z==3):\n",
    "                    Full_name=input(\"Full_name: \")\n",
    "                    Phone_number=int(input(\"Phone_number: \"))\n",
    "                    Email=input(\"Email: \")\n",
    "                    Adress=input(\"Adress: \")\n",
    "                    password=input(\"password: \")\n",
    "                    self.Update_profile(Full_name,Phone_number,Email,Adress,password)\n",
    "                \n",
    "            else:\n",
    "                print(\"Wrong Password\")\n",
    "        else:\n",
    "            print(\"Wrong Email\")\n",
    "    def place_new_order(self):\n",
    "        x=[]\n",
    "        print(self.items)\n",
    "        a=int(input(\"Number of elements in the array:-\"))\n",
    "        n=list(map(int, input(\"elements of array:-\"). strip(). split(',')))\n",
    "        print(n)\n",
    "        print(\"Items selected\")\n",
    "        for i in n:\n",
    "            print(self.items[i])\n",
    "            x.append(self.items[i])\n",
    "        self.orders.append(x)\n",
    "                \n",
    "                \n",
    "        \n",
    "        \n",
    "    def Order_History(self):\n",
    "        print(self.orders)\n",
    "        \n",
    "        \n",
    "    def Update_profile(self,Full_name,Phone_number,Email,Adress,password):\n",
    "        self.Full_name=Full_name\n",
    "        self.Phone_number=Phone_number\n",
    "        self.Email=Email\n",
    "        self.Adress=Adress\n",
    "        self.password=password\n",
    "        \n",
    "        \n",
    "        \n",
    "usr1=User('Madhu',123,'A','ABC','A')\n",
    "usr1.login(input(\"Enter Email:\"),input(\"Enter password: \"))\n",
    "         \n",
    "        \n",
    "        \n",
    "        \n",
    "        \n",
    "        \n",
    "        \n",
    "\n",
    "\n",
    "        \n",
    "\n",
    "\n",
    "\n",
    "\n",
    "        "
   ]
  },
  {
   "cell_type": "code",
   "execution_count": 26,
   "id": "6345af18",
   "metadata": {},
   "outputs": [
    {
     "ename": "AttributeError",
     "evalue": "'User' object has no attribute 'User'",
     "output_type": "error",
     "traceback": [
      "\u001b[1;31m---------------------------------------------------------------------------\u001b[0m",
      "\u001b[1;31mAttributeError\u001b[0m                            Traceback (most recent call last)",
      "Input \u001b[1;32mIn [26]\u001b[0m, in \u001b[0;36m<module>\u001b[1;34m\u001b[0m\n\u001b[1;32m----> 1\u001b[0m \u001b[38;5;28mprint\u001b[39m(\u001b[43musr1\u001b[49m\u001b[38;5;241;43m.\u001b[39;49m\u001b[43mUser\u001b[49m())\n",
      "\u001b[1;31mAttributeError\u001b[0m: 'User' object has no attribute 'User'"
     ]
    }
   ],
   "source": [
    "print(usr1.User())"
   ]
  },
  {
   "cell_type": "code",
   "execution_count": 31,
   "id": "e6776811",
   "metadata": {},
   "outputs": [
    {
     "ename": "AttributeError",
     "evalue": "type object 'User' has no attribute 'usr1'",
     "output_type": "error",
     "traceback": [
      "\u001b[1;31m---------------------------------------------------------------------------\u001b[0m",
      "\u001b[1;31mAttributeError\u001b[0m                            Traceback (most recent call last)",
      "Input \u001b[1;32mIn [31]\u001b[0m, in \u001b[0;36m<module>\u001b[1;34m\u001b[0m\n\u001b[1;32m----> 1\u001b[0m \u001b[38;5;28mprint\u001b[39m(\u001b[43mUser\u001b[49m\u001b[38;5;241;43m.\u001b[39;49m\u001b[43musr1\u001b[49m())\n",
      "\u001b[1;31mAttributeError\u001b[0m: type object 'User' has no attribute 'usr1'"
     ]
    }
   ],
   "source": [
    "print(User.usr1())"
   ]
  },
  {
   "cell_type": "code",
   "execution_count": null,
   "id": "b4f4a3e2",
   "metadata": {},
   "outputs": [],
   "source": []
  }
 ],
 "metadata": {
  "kernelspec": {
   "display_name": "Python 3 (ipykernel)",
   "language": "python",
   "name": "python3"
  },
  "language_info": {
   "codemirror_mode": {
    "name": "ipython",
    "version": 3
   },
   "file_extension": ".py",
   "mimetype": "text/x-python",
   "name": "python",
   "nbconvert_exporter": "python",
   "pygments_lexer": "ipython3",
   "version": "3.10.2"
  }
 },
 "nbformat": 4,
 "nbformat_minor": 5
}
